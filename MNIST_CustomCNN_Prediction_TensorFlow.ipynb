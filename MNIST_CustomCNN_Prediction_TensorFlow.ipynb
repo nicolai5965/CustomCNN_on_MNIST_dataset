{
  "nbformat": 4,
  "nbformat_minor": 0,
  "metadata": {
    "colab": {
      "provenance": [],
      "authorship_tag": "ABX9TyMXBnShn+LbYsv7w3hlG9NI",
      "include_colab_link": true
    },
    "kernelspec": {
      "name": "python3",
      "display_name": "Python 3"
    },
    "language_info": {
      "name": "python"
    },
    "widgets": {
      "application/vnd.jupyter.widget-state+json": {
        "947c8e11e522471ba8a8832a732b7d77": {
          "model_module": "@jupyter-widgets/controls",
          "model_name": "HBoxModel",
          "model_module_version": "1.5.0",
          "state": {
            "_dom_classes": [],
            "_model_module": "@jupyter-widgets/controls",
            "_model_module_version": "1.5.0",
            "_model_name": "HBoxModel",
            "_view_count": null,
            "_view_module": "@jupyter-widgets/controls",
            "_view_module_version": "1.5.0",
            "_view_name": "HBoxView",
            "box_style": "",
            "children": [
              "IPY_MODEL_b34b8238ce2c4c2c9a5b157fc49600e6",
              "IPY_MODEL_2cb72bede1ac456ab1f96db05a22e14c",
              "IPY_MODEL_69cf0693f9354d19857e2a4c9a6b4ffc"
            ],
            "layout": "IPY_MODEL_d5f5743832da4d3b9cb71df14d61078f"
          }
        },
        "b34b8238ce2c4c2c9a5b157fc49600e6": {
          "model_module": "@jupyter-widgets/controls",
          "model_name": "HTMLModel",
          "model_module_version": "1.5.0",
          "state": {
            "_dom_classes": [],
            "_model_module": "@jupyter-widgets/controls",
            "_model_module_version": "1.5.0",
            "_model_name": "HTMLModel",
            "_view_count": null,
            "_view_module": "@jupyter-widgets/controls",
            "_view_module_version": "1.5.0",
            "_view_name": "HTMLView",
            "description": "",
            "description_tooltip": null,
            "layout": "IPY_MODEL_e220164fd44543e982b4feb422496660",
            "placeholder": "​",
            "style": "IPY_MODEL_2024b0f81cae452287ed545a5275758c",
            "value": "Dl Completed...: 100%"
          }
        },
        "2cb72bede1ac456ab1f96db05a22e14c": {
          "model_module": "@jupyter-widgets/controls",
          "model_name": "FloatProgressModel",
          "model_module_version": "1.5.0",
          "state": {
            "_dom_classes": [],
            "_model_module": "@jupyter-widgets/controls",
            "_model_module_version": "1.5.0",
            "_model_name": "FloatProgressModel",
            "_view_count": null,
            "_view_module": "@jupyter-widgets/controls",
            "_view_module_version": "1.5.0",
            "_view_name": "ProgressView",
            "bar_style": "success",
            "description": "",
            "description_tooltip": null,
            "layout": "IPY_MODEL_ecef77d527094c20a559bfdfd4372acb",
            "max": 5,
            "min": 0,
            "orientation": "horizontal",
            "style": "IPY_MODEL_a37f4431a5094c29bd212ab15652af0c",
            "value": 5
          }
        },
        "69cf0693f9354d19857e2a4c9a6b4ffc": {
          "model_module": "@jupyter-widgets/controls",
          "model_name": "HTMLModel",
          "model_module_version": "1.5.0",
          "state": {
            "_dom_classes": [],
            "_model_module": "@jupyter-widgets/controls",
            "_model_module_version": "1.5.0",
            "_model_name": "HTMLModel",
            "_view_count": null,
            "_view_module": "@jupyter-widgets/controls",
            "_view_module_version": "1.5.0",
            "_view_name": "HTMLView",
            "description": "",
            "description_tooltip": null,
            "layout": "IPY_MODEL_a9d145e249ab45edb7f4ea627eaec243",
            "placeholder": "​",
            "style": "IPY_MODEL_c84ce661f2a246c3bf8c39e9ea3abafd",
            "value": " 5/5 [00:00&lt;00:00, 17.59 file/s]"
          }
        },
        "d5f5743832da4d3b9cb71df14d61078f": {
          "model_module": "@jupyter-widgets/base",
          "model_name": "LayoutModel",
          "model_module_version": "1.2.0",
          "state": {
            "_model_module": "@jupyter-widgets/base",
            "_model_module_version": "1.2.0",
            "_model_name": "LayoutModel",
            "_view_count": null,
            "_view_module": "@jupyter-widgets/base",
            "_view_module_version": "1.2.0",
            "_view_name": "LayoutView",
            "align_content": null,
            "align_items": null,
            "align_self": null,
            "border": null,
            "bottom": null,
            "display": null,
            "flex": null,
            "flex_flow": null,
            "grid_area": null,
            "grid_auto_columns": null,
            "grid_auto_flow": null,
            "grid_auto_rows": null,
            "grid_column": null,
            "grid_gap": null,
            "grid_row": null,
            "grid_template_areas": null,
            "grid_template_columns": null,
            "grid_template_rows": null,
            "height": null,
            "justify_content": null,
            "justify_items": null,
            "left": null,
            "margin": null,
            "max_height": null,
            "max_width": null,
            "min_height": null,
            "min_width": null,
            "object_fit": null,
            "object_position": null,
            "order": null,
            "overflow": null,
            "overflow_x": null,
            "overflow_y": null,
            "padding": null,
            "right": null,
            "top": null,
            "visibility": null,
            "width": null
          }
        },
        "e220164fd44543e982b4feb422496660": {
          "model_module": "@jupyter-widgets/base",
          "model_name": "LayoutModel",
          "model_module_version": "1.2.0",
          "state": {
            "_model_module": "@jupyter-widgets/base",
            "_model_module_version": "1.2.0",
            "_model_name": "LayoutModel",
            "_view_count": null,
            "_view_module": "@jupyter-widgets/base",
            "_view_module_version": "1.2.0",
            "_view_name": "LayoutView",
            "align_content": null,
            "align_items": null,
            "align_self": null,
            "border": null,
            "bottom": null,
            "display": null,
            "flex": null,
            "flex_flow": null,
            "grid_area": null,
            "grid_auto_columns": null,
            "grid_auto_flow": null,
            "grid_auto_rows": null,
            "grid_column": null,
            "grid_gap": null,
            "grid_row": null,
            "grid_template_areas": null,
            "grid_template_columns": null,
            "grid_template_rows": null,
            "height": null,
            "justify_content": null,
            "justify_items": null,
            "left": null,
            "margin": null,
            "max_height": null,
            "max_width": null,
            "min_height": null,
            "min_width": null,
            "object_fit": null,
            "object_position": null,
            "order": null,
            "overflow": null,
            "overflow_x": null,
            "overflow_y": null,
            "padding": null,
            "right": null,
            "top": null,
            "visibility": null,
            "width": null
          }
        },
        "2024b0f81cae452287ed545a5275758c": {
          "model_module": "@jupyter-widgets/controls",
          "model_name": "DescriptionStyleModel",
          "model_module_version": "1.5.0",
          "state": {
            "_model_module": "@jupyter-widgets/controls",
            "_model_module_version": "1.5.0",
            "_model_name": "DescriptionStyleModel",
            "_view_count": null,
            "_view_module": "@jupyter-widgets/base",
            "_view_module_version": "1.2.0",
            "_view_name": "StyleView",
            "description_width": ""
          }
        },
        "ecef77d527094c20a559bfdfd4372acb": {
          "model_module": "@jupyter-widgets/base",
          "model_name": "LayoutModel",
          "model_module_version": "1.2.0",
          "state": {
            "_model_module": "@jupyter-widgets/base",
            "_model_module_version": "1.2.0",
            "_model_name": "LayoutModel",
            "_view_count": null,
            "_view_module": "@jupyter-widgets/base",
            "_view_module_version": "1.2.0",
            "_view_name": "LayoutView",
            "align_content": null,
            "align_items": null,
            "align_self": null,
            "border": null,
            "bottom": null,
            "display": null,
            "flex": null,
            "flex_flow": null,
            "grid_area": null,
            "grid_auto_columns": null,
            "grid_auto_flow": null,
            "grid_auto_rows": null,
            "grid_column": null,
            "grid_gap": null,
            "grid_row": null,
            "grid_template_areas": null,
            "grid_template_columns": null,
            "grid_template_rows": null,
            "height": null,
            "justify_content": null,
            "justify_items": null,
            "left": null,
            "margin": null,
            "max_height": null,
            "max_width": null,
            "min_height": null,
            "min_width": null,
            "object_fit": null,
            "object_position": null,
            "order": null,
            "overflow": null,
            "overflow_x": null,
            "overflow_y": null,
            "padding": null,
            "right": null,
            "top": null,
            "visibility": null,
            "width": null
          }
        },
        "a37f4431a5094c29bd212ab15652af0c": {
          "model_module": "@jupyter-widgets/controls",
          "model_name": "ProgressStyleModel",
          "model_module_version": "1.5.0",
          "state": {
            "_model_module": "@jupyter-widgets/controls",
            "_model_module_version": "1.5.0",
            "_model_name": "ProgressStyleModel",
            "_view_count": null,
            "_view_module": "@jupyter-widgets/base",
            "_view_module_version": "1.2.0",
            "_view_name": "StyleView",
            "bar_color": null,
            "description_width": ""
          }
        },
        "a9d145e249ab45edb7f4ea627eaec243": {
          "model_module": "@jupyter-widgets/base",
          "model_name": "LayoutModel",
          "model_module_version": "1.2.0",
          "state": {
            "_model_module": "@jupyter-widgets/base",
            "_model_module_version": "1.2.0",
            "_model_name": "LayoutModel",
            "_view_count": null,
            "_view_module": "@jupyter-widgets/base",
            "_view_module_version": "1.2.0",
            "_view_name": "LayoutView",
            "align_content": null,
            "align_items": null,
            "align_self": null,
            "border": null,
            "bottom": null,
            "display": null,
            "flex": null,
            "flex_flow": null,
            "grid_area": null,
            "grid_auto_columns": null,
            "grid_auto_flow": null,
            "grid_auto_rows": null,
            "grid_column": null,
            "grid_gap": null,
            "grid_row": null,
            "grid_template_areas": null,
            "grid_template_columns": null,
            "grid_template_rows": null,
            "height": null,
            "justify_content": null,
            "justify_items": null,
            "left": null,
            "margin": null,
            "max_height": null,
            "max_width": null,
            "min_height": null,
            "min_width": null,
            "object_fit": null,
            "object_position": null,
            "order": null,
            "overflow": null,
            "overflow_x": null,
            "overflow_y": null,
            "padding": null,
            "right": null,
            "top": null,
            "visibility": null,
            "width": null
          }
        },
        "c84ce661f2a246c3bf8c39e9ea3abafd": {
          "model_module": "@jupyter-widgets/controls",
          "model_name": "DescriptionStyleModel",
          "model_module_version": "1.5.0",
          "state": {
            "_model_module": "@jupyter-widgets/controls",
            "_model_module_version": "1.5.0",
            "_model_name": "DescriptionStyleModel",
            "_view_count": null,
            "_view_module": "@jupyter-widgets/base",
            "_view_module_version": "1.2.0",
            "_view_name": "StyleView",
            "description_width": ""
          }
        }
      }
    }
  },
  "cells": [
    {
      "cell_type": "markdown",
      "metadata": {
        "id": "view-in-github",
        "colab_type": "text"
      },
      "source": [
        "<a href=\"https://colab.research.google.com/github/nicolai5965/CustomCNN_on_MNIST_dataset/blob/main/MNIST_CustomCNN_Prediction_TensorFlow.ipynb\" target=\"_parent\"><img src=\"https://colab.research.google.com/assets/colab-badge.svg\" alt=\"Open In Colab\"/></a>"
      ]
    },
    {
      "cell_type": "code",
      "execution_count": null,
      "metadata": {
        "id": "P80koA7jFFsw"
      },
      "outputs": [],
      "source": [
        "import numpy as np\n",
        "import tensorflow as tf\n",
        "import tensorflow_datasets as tfds\n",
        "from tensorflow.keras import regularizers\n",
        "from tensorflow.keras.models import Sequential\n",
        "from tensorflow.keras.layers import Dense, Flatten, BatchNormalization\n",
        "import matplotlib.pyplot as plt\n",
        "import seaborn as sns\n",
        "from sklearn.metrics import confusion_matrix"
      ]
    },
    {
      "cell_type": "markdown",
      "source": [
        "Loading the MNIST dataset from TensorFlow´s datasets"
      ],
      "metadata": {
        "id": "wKfi4gNl7SYM"
      }
    },
    {
      "cell_type": "code",
      "source": [
        "# Load the dataset\n",
        "mnist_dataset, mnist_info = tfds.load(name='mnist', with_info=True, as_supervised=True)"
      ],
      "metadata": {
        "id": "w4d8eLrV7ZeX",
        "colab": {
          "base_uri": "https://localhost:8080/",
          "height": 84,
          "referenced_widgets": [
            "947c8e11e522471ba8a8832a732b7d77",
            "b34b8238ce2c4c2c9a5b157fc49600e6",
            "2cb72bede1ac456ab1f96db05a22e14c",
            "69cf0693f9354d19857e2a4c9a6b4ffc",
            "d5f5743832da4d3b9cb71df14d61078f",
            "e220164fd44543e982b4feb422496660",
            "2024b0f81cae452287ed545a5275758c",
            "ecef77d527094c20a559bfdfd4372acb",
            "a37f4431a5094c29bd212ab15652af0c",
            "a9d145e249ab45edb7f4ea627eaec243",
            "c84ce661f2a246c3bf8c39e9ea3abafd"
          ]
        },
        "outputId": "5307f18d-5a9d-46ab-ef61-4fa7d768eff4"
      },
      "execution_count": null,
      "outputs": [
        {
          "output_type": "stream",
          "name": "stdout",
          "text": [
            "Downloading and preparing dataset Unknown size (download: Unknown size, generated: Unknown size, total: Unknown size) to /root/tensorflow_datasets/mnist/3.0.1...\n"
          ]
        },
        {
          "output_type": "display_data",
          "data": {
            "text/plain": [
              "Dl Completed...:   0%|          | 0/5 [00:00<?, ? file/s]"
            ],
            "application/vnd.jupyter.widget-view+json": {
              "version_major": 2,
              "version_minor": 0,
              "model_id": "947c8e11e522471ba8a8832a732b7d77"
            }
          },
          "metadata": {}
        },
        {
          "output_type": "stream",
          "name": "stdout",
          "text": [
            "Dataset mnist downloaded and prepared to /root/tensorflow_datasets/mnist/3.0.1. Subsequent calls will reuse this data.\n"
          ]
        }
      ]
    },
    {
      "cell_type": "markdown",
      "source": [
        "Pre processing of the data, and splitting the data up in training, validation and testing datasets. "
      ],
      "metadata": {
        "id": "WfJAqpaMrmCD"
      }
    },
    {
      "cell_type": "code",
      "source": [
        "\n",
        "# Defining a function to scale the images in the dataset\n",
        "def scale(image, label):\n",
        "  image = tf.cast(image, tf.float32)\n",
        "  image /= 255.\n",
        "  return image, label\n",
        "\n",
        "# Scaling and batching the training and validation datasets\n",
        "batch_size = 64\n"
      ],
      "metadata": {
        "id": "PDsJByMNINU0"
      },
      "execution_count": null,
      "outputs": []
    },
    {
      "cell_type": "code",
      "source": [
        "# Load the dataset\n",
        "mnist_dataset, mnist_info = tfds.load(name='mnist', with_info=True, as_supervised=True, split='train[:2000]+test[:500]')\n",
        "\n",
        "# Set the number of samples for training, validation, and testing\n",
        "num_train_samples = 100\n",
        "num_validation_samples = 10\n",
        "num_test_samples = 20\n",
        "# Splitting the MNIST dataset into training and testing sets\n",
        "mnist_train = mnist_dataset.take(num_train_samples)\n",
        "mnist_test = mnist_dataset.skip(num_train_samples).take(num_test_samples)\n",
        "# Shuffle the training dataset\n",
        "mnist_train = mnist_train.shuffle(num_train_samples, seed=42)\n",
        "\n",
        "# Scale and batch the training and validation datasets\n",
        "scaled_train_and_validation_data = mnist_train.map(scale)\n",
        "train_data = scaled_train_and_validation_data.skip(num_validation_samples).batch(batch_size).prefetch(1)\n",
        "validation_data = scaled_train_and_validation_data.take(num_validation_samples).batch(num_validation_samples)\n",
        "test_data = mnist_test.map(scale).batch(num_test_samples)\n",
        "\n",
        "# Extract the inputs and targets from the validation dataset\n",
        "validation_inputs, validation_targets = next(iter(validation_data))\n"
      ],
      "metadata": {
        "id": "yAn1veLhyxTx"
      },
      "execution_count": null,
      "outputs": []
    },
    {
      "cell_type": "code",
      "source": [
        "# Print the shapes of the training, validation, and test sets\n",
        "print(\"Training data shape:\", train_data.element_spec)\n",
        "print(\"Validation data shape:\", validation_data.element_spec)\n",
        "print(\"Test data shape:\", test_data.element_spec)"
      ],
      "metadata": {
        "colab": {
          "base_uri": "https://localhost:8080/"
        },
        "id": "tKNXvVWQ5fa2",
        "outputId": "95711dff-eb06-4240-d180-71d66c63de29"
      },
      "execution_count": null,
      "outputs": [
        {
          "output_type": "stream",
          "name": "stdout",
          "text": [
            "Training data shape: (TensorSpec(shape=(None, 28, 28, 1), dtype=tf.float32, name=None), TensorSpec(shape=(None,), dtype=tf.int64, name=None))\n",
            "Validation data shape: (TensorSpec(shape=(None, 28, 28, 1), dtype=tf.float32, name=None), TensorSpec(shape=(None,), dtype=tf.int64, name=None))\n",
            "Test data shape: (TensorSpec(shape=(None, 28, 28, 1), dtype=tf.float32, name=None), TensorSpec(shape=(None,), dtype=tf.int64, name=None))\n"
          ]
        }
      ]
    },
    {
      "cell_type": "code",
      "source": [
        "def apply_padding(x, padding, kernel_height, kernel_width, strides):\n",
        "    batch_size, input_height, input_width, _ = x.shape\n",
        "\n",
        "    if padding == 'VALID':\n",
        "        pad_rows = 0\n",
        "        pad_cols = 0\n",
        "    elif padding == 'SAME':\n",
        "        pad_rows = max((input_height - 1) * strides[0] + kernel_height - input_height, 0)\n",
        "        pad_cols = max((input_width - 1) * strides[1] + kernel_width - input_width, 0)\n",
        "\n",
        "    pad_top = pad_rows // 2\n",
        "    pad_bottom = pad_rows - pad_top\n",
        "    pad_left = pad_cols // 2\n",
        "    pad_right = pad_cols - pad_left\n",
        "\n",
        "    x_padded = tf.pad(x, [[0, 0], [pad_top, pad_bottom], [pad_left, pad_right], [0, 0]])\n",
        "\n",
        "    return x_padded, pad_rows, pad_cols"
      ],
      "metadata": {
        "id": "W18zr8iyqqAU"
      },
      "execution_count": null,
      "outputs": []
    },
    {
      "cell_type": "code",
      "source": [
        "def conv2d_explicit(x, kernel, strides=(1, 1), padding='VALID'):\n",
        "    input_shape = tf.shape(x)\n",
        "    batch_size, input_height, input_width, in_channels = input_shape[0], input_shape[1], input_shape[2], input_shape[3]\n",
        "\n",
        "    filter_height, filter_width, _, out_channels = kernel.shape\n",
        "    \n",
        "    x_padded, pad_rows, pad_cols = apply_padding(x, padding, filter_height, filter_width, strides)\n",
        "\n",
        "    output_height = (input_height + pad_rows - filter_height) // strides[0] + 1\n",
        "    output_width = (input_width + pad_cols - filter_width) // strides[1] + 1\n",
        "\n",
        "    output = tf.zeros((batch_size, output_height, output_width, out_channels), dtype=tf.float32)\n",
        "\n",
        "    for h in range(output_height):\n",
        "        for w in range(output_width):\n",
        "            for c_out in range(out_channels):\n",
        "                input_slice = x_padded[:, \n",
        "                                       h * strides[0]:h * strides[0] + filter_height, \n",
        "                                       w * strides[1]:w * strides[1] + filter_width, :]\n",
        "                kernel_slice = kernel[:, :, :, c_out]\n",
        "                output_slice = tf.reduce_sum(input_slice * kernel_slice, axis=[1, 2, 3])\n",
        "                output = tf.tensor_scatter_nd_add(output,\n",
        "                                                  indices=tf.stack([tf.range(batch_size), \n",
        "                                                                    tf.ones(batch_size, dtype=tf.int32) * h, \n",
        "                                                                    tf.ones(batch_size, dtype=tf.int32) * w, \n",
        "                                                                    tf.ones(batch_size, dtype=tf.int32) * c_out], axis=-1),\n",
        "                                                  updates=output_slice)\n",
        "    return output"
      ],
      "metadata": {
        "id": "agRgRmeDiVmt"
      },
      "execution_count": null,
      "outputs": []
    },
    {
      "cell_type": "code",
      "source": [
        "class CustomConv2D(tf.keras.layers.Layer):\n",
        "    def __init__(self, filters, kernel_size, strides=(1, 1), padding='VALID', activation=None, use_l2_reg=False, l2_reg_rate=0.001, use_batch_norm=False, **kwargs):\n",
        "        super(CustomConv2D, self).__init__(**kwargs)\n",
        "        self.filters = filters\n",
        "        self.kernel_size = kernel_size\n",
        "        self.strides = strides\n",
        "        self.padding = padding\n",
        "        self.activation = tf.keras.activations.get(activation)\n",
        "        self.use_l2_reg = use_l2_reg\n",
        "        self.l2_reg_rate = l2_reg_rate\n",
        "        self.use_batch_norm = use_batch_norm\n",
        "        if self.use_batch_norm:\n",
        "            self.batch_norm = BatchNormalization()\n",
        "\n",
        "    def build(self, input_shape):\n",
        "        if self.use_l2_reg:\n",
        "            self.kernel = self.add_weight(\"kernel\",\n",
        "                                          shape=(self.kernel_size[0], self.kernel_size[1], input_shape[-1], self.filters),\n",
        "                                          initializer=\"glorot_uniform\",\n",
        "                                          trainable=True,\n",
        "                                          regularizer=regularizers.l2(self.l2_reg_rate))\n",
        "        else:\n",
        "            self.kernel = self.add_weight(\"kernel\",\n",
        "                                          shape=(self.kernel_size[0], self.kernel_size[1], input_shape[-1], self.filters),\n",
        "                                          initializer=\"glorot_uniform\",\n",
        "                                          trainable=True)\n",
        "\n",
        "    def call(self, inputs):\n",
        "        output = conv2d_explicit(inputs, self.kernel, strides=self.strides, padding=self.padding)\n",
        "        if self.use_batch_norm:\n",
        "            output = self.batch_norm(output)\n",
        "        if self.activation is not None:\n",
        "            output = self.activation(output)\n",
        "        return output\n"
      ],
      "metadata": {
        "id": "4MepciZicpxk"
      },
      "execution_count": null,
      "outputs": []
    },
    {
      "cell_type": "code",
      "source": [
        "\n",
        "def max_pooling2d_explicit(x, pool_size=(2, 2), strides=(2, 2), padding='VALID'):\n",
        "    input_shape = tf.shape(x)\n",
        "    batch_size, input_height, input_width, in_channels = input_shape[0], input_shape[1], input_shape[2], input_shape[3]\n",
        "\n",
        "    pool_height, pool_width = pool_size\n",
        "\n",
        "    x_padded, pad_rows, pad_cols = apply_padding(x, padding, input_height, input_width, strides)\n",
        "\n",
        "    output_height = (input_height + pad_rows - pool_height) // strides[0] + 1\n",
        "    output_width = (input_width + pad_cols - pool_width) // strides[1] + 1\n",
        "\n",
        "    output = tf.zeros((batch_size, output_height, output_width, in_channels), dtype=tf.float32)\n",
        "\n",
        "    for h in range(output_height):\n",
        "        for w in range(output_width):\n",
        "            input_slice = x_padded[:, \n",
        "                                   h * strides[0]:h * strides[0] + pool_height, \n",
        "                                   w * strides[1]:w * strides[1] + pool_width, :]\n",
        "            output_slice = tf.reduce_max(input_slice, axis=[1, 2])\n",
        "            output = tf.tensor_scatter_nd_add(output,\n",
        "                                              indices=tf.stack([tf.range(batch_size), \n",
        "                                                                tf.ones(batch_size, dtype=tf.int32) * h, \n",
        "                                                                tf.ones(batch_size, dtype=tf.int32) * w], axis=-1),\n",
        "                                              updates=output_slice)\n",
        "    return output"
      ],
      "metadata": {
        "id": "SRHecI6XihE7"
      },
      "execution_count": null,
      "outputs": []
    },
    {
      "cell_type": "code",
      "source": [
        "class CustomMaxPooling2D(tf.keras.layers.Layer):\n",
        "    def __init__(self, pool_size=(2, 2), strides=(2, 2), padding='VALID', **kwargs):\n",
        "        super(CustomMaxPooling2D, self).__init__(**kwargs)\n",
        "        self.pool_size = pool_size\n",
        "        self.strides = strides\n",
        "        self.padding = padding\n",
        "\n",
        "    def call(self, inputs):\n",
        "        return max_pooling2d_explicit(inputs, pool_size=self.pool_size, strides=self.strides, padding=self.padding)\n"
      ],
      "metadata": {
        "id": "yyzpycsPa0Iv"
      },
      "execution_count": null,
      "outputs": []
    },
    {
      "cell_type": "code",
      "source": [
        "\n",
        "# Creating the model\n",
        "model = Sequential([\n",
        "    CustomConv2D(filters=32, kernel_size=(3, 3), strides=(1, 1), padding='SAME', activation='relu', use_l2_reg=True, l2_reg_rate=0.001, use_batch_norm=True, input_shape=(28, 28, 1)),\n",
        "    CustomMaxPooling2D(pool_size=(2, 2), strides=(2, 2), padding='VALID'),\n",
        "    CustomConv2D(filters=64, kernel_size=(3, 3), strides=(1, 1), padding='SAME', activation='relu', use_l2_reg=True, l2_reg_rate=0.001, use_batch_norm=True),\n",
        "    CustomMaxPooling2D(pool_size=(2, 2), strides=(2, 2), padding='VALID'),\n",
        "    Flatten(),\n",
        "    Dense(units=128, activation='relu', kernel_regularizer=regularizers.l2(0.001)),\n",
        "    Dense(units=10, activation='softmax')\n",
        "])\n",
        "\n",
        "# Compiling the model\n",
        "model.compile(optimizer='adam', loss='sparse_categorical_crossentropy', metrics=['accuracy'])"
      ],
      "metadata": {
        "id": "a1VFEJLbkmAh"
      },
      "execution_count": null,
      "outputs": []
    },
    {
      "cell_type": "code",
      "source": [
        "history = model.fit(train_data, epochs=5, validation_data=(validation_inputs, validation_targets), verbose=2)\n",
        "\n",
        "# Evaluating the model on the test dataset\n",
        "test_loss, test_accuracy = model.evaluate(test_data)\n",
        "print(\"Test loss: {0:.4f}, test accuracy: {1:.4f}\".format(test_loss, test_accuracy))"
      ],
      "metadata": {
        "colab": {
          "base_uri": "https://localhost:8080/"
        },
        "id": "yaADmaahEZmX",
        "outputId": "adb5b8b9-90f9-4d16-8f16-f3a62f796fab"
      },
      "execution_count": null,
      "outputs": [
        {
          "output_type": "stream",
          "name": "stdout",
          "text": [
            "Epoch 1/5\n",
            "2/2 - 101s - loss: 3.8302 - accuracy: 0.0778 - val_loss: 2.5357 - val_accuracy: 0.3000 - 101s/epoch - 50s/step\n",
            "Epoch 2/5\n",
            "2/2 - 29s - loss: 3.2905 - accuracy: 0.2889 - val_loss: 2.4779 - val_accuracy: 0.5000 - 29s/epoch - 14s/step\n",
            "Epoch 3/5\n",
            "2/2 - 34s - loss: 2.5368 - accuracy: 0.5000 - val_loss: 2.4503 - val_accuracy: 0.6000 - 34s/epoch - 17s/step\n",
            "Epoch 4/5\n",
            "2/2 - 29s - loss: 1.6486 - accuracy: 0.6556 - val_loss: 2.4230 - val_accuracy: 0.6000 - 29s/epoch - 14s/step\n",
            "Epoch 5/5\n",
            "2/2 - 30s - loss: 1.3548 - accuracy: 0.6667 - val_loss: 2.3814 - val_accuracy: 0.8000 - 30s/epoch - 15s/step\n",
            "1/1 [==============================] - 3s 3s/step - loss: 2.4144 - accuracy: 0.6000\n",
            "Test loss: 2.4144, test accuracy: 0.6000\n"
          ]
        }
      ]
    },
    {
      "cell_type": "code",
      "source": [
        "model.summary()"
      ],
      "metadata": {
        "colab": {
          "base_uri": "https://localhost:8080/"
        },
        "id": "fhVeZSq-YB4E",
        "outputId": "90798b7c-4625-4b80-e245-f22a323b391e"
      },
      "execution_count": null,
      "outputs": [
        {
          "output_type": "stream",
          "name": "stdout",
          "text": [
            "Model: \"sequential\"\n",
            "_________________________________________________________________\n",
            " Layer (type)                Output Shape              Param #   \n",
            "=================================================================\n",
            " custom_conv2d (CustomConv2D  (None, 28, 28, 32)       416       \n",
            " )                                                               \n",
            "                                                                 \n",
            " custom_max_pooling2d (Custo  (None, 14, 14, 32)       0         \n",
            " mMaxPooling2D)                                                  \n",
            "                                                                 \n",
            " custom_conv2d_1 (CustomConv  (None, 14, 14, 64)       18688     \n",
            " 2D)                                                             \n",
            "                                                                 \n",
            " custom_max_pooling2d_1 (Cus  (None, 7, 7, 64)         0         \n",
            " tomMaxPooling2D)                                                \n",
            "                                                                 \n",
            " flatten (Flatten)           (None, 3136)              0         \n",
            "                                                                 \n",
            " dense (Dense)               (None, 128)               401536    \n",
            "                                                                 \n",
            " dense_1 (Dense)             (None, 10)                1290      \n",
            "                                                                 \n",
            "=================================================================\n",
            "Total params: 421,930\n",
            "Trainable params: 421,738\n",
            "Non-trainable params: 192\n",
            "_________________________________________________________________\n"
          ]
        }
      ]
    },
    {
      "cell_type": "code",
      "source": [
        "def plot_loss_and_accuracy_curves(history):\n",
        "    plt.figure(figsize=(12, 4))\n",
        "\n",
        "    # Loss curves\n",
        "    plt.subplot(1, 2, 1)\n",
        "    plt.plot(history.history['loss'], label='Training loss')\n",
        "    plt.plot(history.history['val_loss'], label='Validation loss')\n",
        "    plt.xlabel('Epochs')\n",
        "    plt.ylabel('Loss')\n",
        "    plt.legend()\n",
        "    plt.title('Loss Curves')\n",
        "\n",
        "    # Accuracy curves\n",
        "    plt.subplot(1, 2, 2)\n",
        "    plt.plot(history.history['accuracy'], label='Training accuracy')\n",
        "    plt.plot(history.history['val_accuracy'], label='Validation accuracy')\n",
        "    plt.xlabel('Epochs')\n",
        "    plt.ylabel('Accuracy')\n",
        "    plt.legend()\n",
        "    plt.title('Accuracy Curves')\n",
        "\n",
        "    plt.show()\n",
        "\n",
        "def plot_confusion_matrix(test_data, model):\n",
        "    y_true = np.concatenate([y for x, y in test_data], axis=0)\n",
        "    y_pred = np.argmax(model.predict(test_data), axis=1)\n",
        "\n",
        "    cm = confusion_matrix(y_true, y_pred)\n",
        "\n",
        "    plt.figure(figsize=(10, 8))\n",
        "    sns.heatmap(cm, annot=True, fmt='d', cmap='Blues', xticklabels=range(10), yticklabels=range(10))\n",
        "    plt.xlabel('Predicted Label')\n",
        "    plt.ylabel('True Label')\n",
        "    plt.title('Confusion Matrix')\n",
        "    plt.show()\n",
        "\n",
        "def plot_feature_maps(model, test_data):\n",
        "    feature_map_model = tf.keras.Model(inputs=model.inputs, outputs=model.layers[0].output)\n",
        "\n",
        "    image, _ = next(iter(test_data.take(1)))\n",
        "    image = image[0:1]\n",
        "\n",
        "    feature_maps = feature_map_model.predict(image)\n",
        "\n",
        "    num_feature_maps = feature_maps.shape[-1]\n",
        "    rows = int(np.sqrt(num_feature_maps))\n",
        "    cols = int(np.ceil(num_feature_maps / rows))\n",
        "\n",
        "    plt.figure(figsize=(cols * 2, rows * 2))\n",
        "\n",
        "    for i in range(num_feature_maps):\n",
        "        plt.subplot(rows, cols, i + 1)\n",
        "        plt.imshow(feature_maps[0, :, :, i], cmap='gray')\n",
        "        plt.axis('off')\n",
        "\n",
        "    plt.suptitle('Feature Maps')\n",
        "    plt.show()\n"
      ],
      "metadata": {
        "id": "Y4lPEkECkncL"
      },
      "execution_count": null,
      "outputs": []
    },
    {
      "cell_type": "code",
      "source": [
        "\n",
        "# Plot the loss and accuracy curves\n",
        "plot_loss_and_accuracy_curves(history)\n",
        "\n",
        "# Plot the confusion matrix\n",
        "plot_confusion_matrix(test_data, model)\n",
        "\n",
        "# Plot the feature maps\n",
        "plot_feature_maps(model, test_data)"
      ],
      "metadata": {
        "colab": {
          "base_uri": "https://localhost:8080/",
          "height": 1000
        },
        "id": "kYQnuY9nErf0",
        "outputId": "996e611b-e67a-4eaa-92f3-2170f6ce7812"
      },
      "execution_count": null,
      "outputs": [
        {
          "output_type": "display_data",
          "data": {
            "text/plain": [
              "<Figure size 1200x400 with 2 Axes>"
            ],
            "image/png": "[encoded data removed]"
          },
          "metadata": {}
        },
        {
          "output_type": "stream",
          "name": "stdout",
          "text": [
            "1/1 [==============================] - 8s 8s/step\n"
          ]
        },
        {
          "output_type": "display_data",
          "data": {
            "text/plain": [
              "<Figure size 1000x800 with 2 Axes>"
            ],
            "image/png": "[encoded data removed]"
          },
          "metadata": {}
        },
        {
          "output_type": "stream",
          "name": "stdout",
          "text": [
            "1/1 [==============================] - 2s 2s/step\n"
          ]
        },
        {
          "output_type": "display_data",
          "data": {
            "text/plain": [
              "<Figure size 1400x1000 with 32 Axes>"
            ],
            "image/png": "[encoded data removed]"
          },
          "metadata": {}
        }
      ]
    }
  ]
}